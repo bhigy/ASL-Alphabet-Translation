{
 "cells": [
  {
   "cell_type": "code",
   "execution_count": 17,
   "metadata": {
    "colab": {
     "base_uri": "https://localhost:8080/",
     "height": 67
    },
    "colab_type": "code",
    "id": "iev-G-2dkSbQ",
    "outputId": "c18bde77-f2e8-4311-c7ba-60e3fc59d4bd"
   },
   "outputs": [
    {
     "name": "stdout",
     "output_type": "stream",
     "text": [
      "Found 87000 images belonging to 29 classes.\n",
      "Found 28 images belonging to 29 classes.\n"
     ]
    }
   ],
   "source": [
    "#prep\n",
    "\n",
    "import numpy as np\n",
    "import seaborn as sns\n",
    "#from keras.preprocessing.image import load_img, img_to_array\n",
    "from tensorflow.keras.utils import load_img, img_to_array\n",
    "import matplotlib.pyplot as plt\n",
    "import os\n",
    "\n",
    "# size of the image\n",
    "pic_size = 48\n",
    "\n",
    "# input path for the images\n",
    "base_path = 'data/asl_alphabet/'\n",
    "\n",
    "from keras.preprocessing.image import ImageDataGenerator\n",
    "\n",
    "# number of images to feed into the NN for every batch\n",
    "batch_size = 100\n",
    "\n",
    "datagen_train = ImageDataGenerator()\n",
    "datagen_validation = ImageDataGenerator()\n",
    "\n",
    "train_generator = datagen_train.flow_from_directory(base_path + \"train\",\n",
    "                                                    target_size=(pic_size,pic_size),\n",
    "                                                    color_mode=\"grayscale\",\n",
    "                                                    batch_size=batch_size,\n",
    "                                                    class_mode='categorical',\n",
    "                                                    shuffle=True)\n",
    "\n",
    "validation_generator = datagen_validation.flow_from_directory(base_path + \"test\",\n",
    "                                                    target_size=(pic_size,pic_size),\n",
    "                                                    color_mode=\"grayscale\",\n",
    "                                                    batch_size=batch_size,\n",
    "                                                    class_mode='categorical',\n",
    "                                                    shuffle=False)"
   ]
  },
  {
   "cell_type": "code",
   "execution_count": 18,
   "metadata": {
    "colab": {},
    "colab_type": "code",
    "id": "oeB7MUyKkcpv"
   },
   "outputs": [],
   "source": [
    "#defining the model\n",
    "\n",
    "from keras.layers import Dense, Input, Dropout, GlobalAveragePooling2D, Flatten, Conv2D, BatchNormalization, Activation, MaxPooling2D\n",
    "from keras.models import Model, Sequential\n",
    "from keras.optimizers import Adam\n",
    "\n",
    "# number of possible label values\n",
    "nb_classes = 29\n",
    "\n",
    "# Initialising the CNN\n",
    "model = Sequential()\n",
    "\n",
    "# 1 - Convolution\n",
    "model.add(Conv2D(64,(3,3), padding='same', input_shape=(48, 48, 1)))\n",
    "model.add(BatchNormalization())\n",
    "model.add(Activation('relu'))\n",
    "model.add(MaxPooling2D(pool_size=(2, 2)))\n",
    "model.add(Dropout(0.25))\n",
    "\n",
    "# 2nd Convolution layer\n",
    "model.add(Conv2D(128,(5,5), padding='same'))\n",
    "model.add(BatchNormalization())\n",
    "model.add(Activation('relu'))\n",
    "model.add(MaxPooling2D(pool_size=(2, 2)))\n",
    "model.add(Dropout(0.25))\n",
    "\n",
    "# 3rd Convolution layer\n",
    "model.add(Conv2D(512,(3,3), padding='same'))\n",
    "model.add(BatchNormalization())\n",
    "model.add(Activation('relu'))\n",
    "model.add(MaxPooling2D(pool_size=(2, 2)))\n",
    "model.add(Dropout(0.25))\n",
    "\n",
    "# 4th Convolution layer\n",
    "model.add(Conv2D(512,(3,3), padding='same'))\n",
    "model.add(BatchNormalization())\n",
    "model.add(Activation('relu'))\n",
    "model.add(MaxPooling2D(pool_size=(2, 2)))\n",
    "model.add(Dropout(0.25))\n",
    "\n",
    "# Flattening\n",
    "model.add(Flatten())\n",
    "\n",
    "# Fully connected layer 1st layer\n",
    "model.add(Dense(256))\n",
    "model.add(BatchNormalization())\n",
    "model.add(Activation('relu'))\n",
    "model.add(Dropout(0.25))\n",
    "\n",
    "# Fully connected layer 2nd layer\n",
    "model.add(Dense(512))\n",
    "model.add(BatchNormalization())\n",
    "model.add(Activation('relu'))\n",
    "model.add(Dropout(0.25))\n",
    "\n",
    "model.add(Dense(nb_classes, activation='softmax'))\n",
    "\n",
    "opt = Adam(lr=0.0001)\n",
    "model.compile(optimizer=opt, loss='categorical_crossentropy', metrics=['accuracy'])"
   ]
  },
  {
   "cell_type": "code",
   "execution_count": null,
   "metadata": {
    "colab": {
     "base_uri": "https://localhost:8080/",
     "height": 1000
    },
    "colab_type": "code",
    "id": "0F6HI13Tk1zQ",
    "outputId": "aea6a9c5-f6c1-41f6-bb69-bfcce23c696b"
   },
   "outputs": [
    {
     "name": "stdout",
     "output_type": "stream",
     "text": [
      "Epoch 1/50\n",
      "  1/870 [..............................] - ETA: 1:56 - loss: 0.0143 - accuracy: 0.9900"
     ]
    },
    {
     "name": "stderr",
     "output_type": "stream",
     "text": [
      "2023-07-12 09:54:20.672272: I tensorflow/core/common_runtime/executor.cc:1197] [/device:CPU:0] (DEBUG INFO) Executor start aborting (this does not indicate an error and you can ignore this message): INVALID_ARGUMENT: You must feed a value for placeholder tensor 'Placeholder/_0' with dtype int32\n",
      "\t [[{{node Placeholder/_0}}]]\n"
     ]
    },
    {
     "name": "stdout",
     "output_type": "stream",
     "text": [
      "870/870 [==============================] - ETA: 0s - loss: 0.0291 - accuracy: 0.9910WARNING:tensorflow:Can save best model only with val_acc available, skipping.\n"
     ]
    },
    {
     "name": "stderr",
     "output_type": "stream",
     "text": [
      "2023-07-12 09:55:08.460014: I tensorflow/core/common_runtime/executor.cc:1197] [/device:CPU:0] (DEBUG INFO) Executor start aborting (this does not indicate an error and you can ignore this message): INVALID_ARGUMENT: You must feed a value for placeholder tensor 'Placeholder/_0' with dtype int32\n",
      "\t [[{{node Placeholder/_0}}]]\n",
      "WARNING:tensorflow:Can save best model only with val_acc available, skipping.\n"
     ]
    },
    {
     "name": "stdout",
     "output_type": "stream",
     "text": [
      "870/870 [==============================] - 48s 55ms/step - loss: 0.0291 - accuracy: 0.9910 - val_loss: 8.7211e-05 - val_accuracy: 1.0000\n",
      "Epoch 2/50\n",
      "870/870 [==============================] - ETA: 0s - loss: 0.0246 - accuracy: 0.9924WARNING:tensorflow:Can save best model only with val_acc available, skipping.\n"
     ]
    },
    {
     "name": "stderr",
     "output_type": "stream",
     "text": [
      "WARNING:tensorflow:Can save best model only with val_acc available, skipping.\n"
     ]
    },
    {
     "name": "stdout",
     "output_type": "stream",
     "text": [
      "870/870 [==============================] - 48s 55ms/step - loss: 0.0246 - accuracy: 0.9924 - val_loss: 3.6288e-05 - val_accuracy: 1.0000\n",
      "Epoch 3/50\n",
      "870/870 [==============================] - ETA: 0s - loss: 0.0215 - accuracy: 0.9935WARNING:tensorflow:Can save best model only with val_acc available, skipping.\n"
     ]
    },
    {
     "name": "stderr",
     "output_type": "stream",
     "text": [
      "WARNING:tensorflow:Can save best model only with val_acc available, skipping.\n"
     ]
    },
    {
     "name": "stdout",
     "output_type": "stream",
     "text": [
      "870/870 [==============================] - 50s 57ms/step - loss: 0.0215 - accuracy: 0.9935 - val_loss: 6.3047e-04 - val_accuracy: 1.0000\n",
      "Epoch 4/50\n",
      "870/870 [==============================] - ETA: 0s - loss: 0.0192 - accuracy: 0.9942WARNING:tensorflow:Can save best model only with val_acc available, skipping.\n"
     ]
    },
    {
     "name": "stderr",
     "output_type": "stream",
     "text": [
      "WARNING:tensorflow:Can save best model only with val_acc available, skipping.\n"
     ]
    },
    {
     "name": "stdout",
     "output_type": "stream",
     "text": [
      "870/870 [==============================] - 49s 56ms/step - loss: 0.0192 - accuracy: 0.9942 - val_loss: 9.8109e-05 - val_accuracy: 1.0000\n",
      "Epoch 5/50\n",
      "870/870 [==============================] - ETA: 0s - loss: 0.0163 - accuracy: 0.9952WARNING:tensorflow:Can save best model only with val_acc available, skipping.\n"
     ]
    },
    {
     "name": "stderr",
     "output_type": "stream",
     "text": [
      "WARNING:tensorflow:Can save best model only with val_acc available, skipping.\n"
     ]
    },
    {
     "name": "stdout",
     "output_type": "stream",
     "text": [
      "870/870 [==============================] - 49s 56ms/step - loss: 0.0163 - accuracy: 0.9952 - val_loss: 3.8163e-04 - val_accuracy: 1.0000\n",
      "Epoch 6/50\n",
      "870/870 [==============================] - ETA: 0s - loss: 0.0168 - accuracy: 0.9948WARNING:tensorflow:Can save best model only with val_acc available, skipping.\n"
     ]
    },
    {
     "name": "stderr",
     "output_type": "stream",
     "text": [
      "WARNING:tensorflow:Can save best model only with val_acc available, skipping.\n"
     ]
    },
    {
     "name": "stdout",
     "output_type": "stream",
     "text": [
      "870/870 [==============================] - 49s 57ms/step - loss: 0.0168 - accuracy: 0.9948 - val_loss: 0.0017 - val_accuracy: 1.0000\n",
      "Epoch 7/50\n",
      "870/870 [==============================] - ETA: 0s - loss: 0.0158 - accuracy: 0.9950WARNING:tensorflow:Can save best model only with val_acc available, skipping.\n"
     ]
    },
    {
     "name": "stderr",
     "output_type": "stream",
     "text": [
      "WARNING:tensorflow:Can save best model only with val_acc available, skipping.\n"
     ]
    },
    {
     "name": "stdout",
     "output_type": "stream",
     "text": [
      "870/870 [==============================] - 48s 55ms/step - loss: 0.0158 - accuracy: 0.9950 - val_loss: 1.0289e-04 - val_accuracy: 1.0000\n",
      "Epoch 8/50\n",
      "870/870 [==============================] - ETA: 0s - loss: 0.0120 - accuracy: 0.9963WARNING:tensorflow:Can save best model only with val_acc available, skipping.\n"
     ]
    },
    {
     "name": "stderr",
     "output_type": "stream",
     "text": [
      "WARNING:tensorflow:Can save best model only with val_acc available, skipping.\n"
     ]
    },
    {
     "name": "stdout",
     "output_type": "stream",
     "text": [
      "870/870 [==============================] - 49s 56ms/step - loss: 0.0120 - accuracy: 0.9963 - val_loss: 5.0212e-05 - val_accuracy: 1.0000\n",
      "Epoch 9/50\n",
      "870/870 [==============================] - ETA: 0s - loss: 0.0113 - accuracy: 0.9966WARNING:tensorflow:Can save best model only with val_acc available, skipping.\n"
     ]
    },
    {
     "name": "stderr",
     "output_type": "stream",
     "text": [
      "WARNING:tensorflow:Can save best model only with val_acc available, skipping.\n"
     ]
    },
    {
     "name": "stdout",
     "output_type": "stream",
     "text": [
      "870/870 [==============================] - 49s 56ms/step - loss: 0.0113 - accuracy: 0.9966 - val_loss: 6.8471e-05 - val_accuracy: 1.0000\n",
      "Epoch 10/50\n",
      "870/870 [==============================] - ETA: 0s - loss: 0.0120 - accuracy: 0.9964WARNING:tensorflow:Can save best model only with val_acc available, skipping.\n"
     ]
    },
    {
     "name": "stderr",
     "output_type": "stream",
     "text": [
      "WARNING:tensorflow:Can save best model only with val_acc available, skipping.\n"
     ]
    },
    {
     "name": "stdout",
     "output_type": "stream",
     "text": [
      "870/870 [==============================] - 49s 57ms/step - loss: 0.0120 - accuracy: 0.9964 - val_loss: 4.2081e-05 - val_accuracy: 1.0000\n",
      "Epoch 11/50\n",
      "870/870 [==============================] - ETA: 0s - loss: 0.0098 - accuracy: 0.9969WARNING:tensorflow:Can save best model only with val_acc available, skipping.\n"
     ]
    },
    {
     "name": "stderr",
     "output_type": "stream",
     "text": [
      "WARNING:tensorflow:Can save best model only with val_acc available, skipping.\n"
     ]
    },
    {
     "name": "stdout",
     "output_type": "stream",
     "text": [
      "870/870 [==============================] - 49s 56ms/step - loss: 0.0098 - accuracy: 0.9969 - val_loss: 1.9174e-05 - val_accuracy: 1.0000\n",
      "Epoch 12/50\n",
      "870/870 [==============================] - ETA: 0s - loss: 0.0092 - accuracy: 0.9972WARNING:tensorflow:Can save best model only with val_acc available, skipping.\n"
     ]
    },
    {
     "name": "stderr",
     "output_type": "stream",
     "text": [
      "WARNING:tensorflow:Can save best model only with val_acc available, skipping.\n"
     ]
    },
    {
     "name": "stdout",
     "output_type": "stream",
     "text": [
      "870/870 [==============================] - 49s 56ms/step - loss: 0.0092 - accuracy: 0.9972 - val_loss: 2.8567e-06 - val_accuracy: 1.0000\n",
      "Epoch 13/50\n",
      "870/870 [==============================] - ETA: 0s - loss: 0.0084 - accuracy: 0.9976WARNING:tensorflow:Can save best model only with val_acc available, skipping.\n"
     ]
    },
    {
     "name": "stderr",
     "output_type": "stream",
     "text": [
      "WARNING:tensorflow:Can save best model only with val_acc available, skipping.\n"
     ]
    },
    {
     "name": "stdout",
     "output_type": "stream",
     "text": [
      "870/870 [==============================] - 46s 53ms/step - loss: 0.0084 - accuracy: 0.9976 - val_loss: 4.5880e-05 - val_accuracy: 1.0000\n",
      "Epoch 14/50\n",
      "870/870 [==============================] - ETA: 0s - loss: 0.0083 - accuracy: 0.9976WARNING:tensorflow:Can save best model only with val_acc available, skipping.\n"
     ]
    },
    {
     "name": "stderr",
     "output_type": "stream",
     "text": [
      "WARNING:tensorflow:Can save best model only with val_acc available, skipping.\n"
     ]
    },
    {
     "name": "stdout",
     "output_type": "stream",
     "text": [
      "870/870 [==============================] - 47s 54ms/step - loss: 0.0083 - accuracy: 0.9976 - val_loss: 2.1979e-05 - val_accuracy: 1.0000\n",
      "Epoch 15/50\n",
      "870/870 [==============================] - ETA: 0s - loss: 0.0082 - accuracy: 0.9973WARNING:tensorflow:Can save best model only with val_acc available, skipping.\n"
     ]
    },
    {
     "name": "stderr",
     "output_type": "stream",
     "text": [
      "WARNING:tensorflow:Can save best model only with val_acc available, skipping.\n"
     ]
    },
    {
     "name": "stdout",
     "output_type": "stream",
     "text": [
      "870/870 [==============================] - 49s 56ms/step - loss: 0.0082 - accuracy: 0.9973 - val_loss: 2.4537e-05 - val_accuracy: 1.0000\n",
      "Epoch 16/50\n",
      "870/870 [==============================] - ETA: 0s - loss: 0.0080 - accuracy: 0.9975WARNING:tensorflow:Can save best model only with val_acc available, skipping.\n"
     ]
    },
    {
     "name": "stderr",
     "output_type": "stream",
     "text": [
      "WARNING:tensorflow:Can save best model only with val_acc available, skipping.\n"
     ]
    },
    {
     "name": "stdout",
     "output_type": "stream",
     "text": [
      "870/870 [==============================] - 48s 55ms/step - loss: 0.0080 - accuracy: 0.9975 - val_loss: 5.0492e-06 - val_accuracy: 1.0000\n",
      "Epoch 17/50\n",
      "870/870 [==============================] - ETA: 0s - loss: 0.0083 - accuracy: 0.9974WARNING:tensorflow:Can save best model only with val_acc available, skipping.\n"
     ]
    },
    {
     "name": "stderr",
     "output_type": "stream",
     "text": [
      "WARNING:tensorflow:Can save best model only with val_acc available, skipping.\n"
     ]
    },
    {
     "name": "stdout",
     "output_type": "stream",
     "text": [
      "870/870 [==============================] - 49s 56ms/step - loss: 0.0083 - accuracy: 0.9974 - val_loss: 8.7006e-05 - val_accuracy: 1.0000\n",
      "Epoch 18/50\n",
      "870/870 [==============================] - ETA: 0s - loss: 0.0065 - accuracy: 0.9981WARNING:tensorflow:Can save best model only with val_acc available, skipping.\n"
     ]
    },
    {
     "name": "stderr",
     "output_type": "stream",
     "text": [
      "WARNING:tensorflow:Can save best model only with val_acc available, skipping.\n"
     ]
    },
    {
     "name": "stdout",
     "output_type": "stream",
     "text": [
      "870/870 [==============================] - 47s 54ms/step - loss: 0.0065 - accuracy: 0.9981 - val_loss: 2.4438e-06 - val_accuracy: 1.0000\n",
      "Epoch 19/50\n",
      "870/870 [==============================] - ETA: 0s - loss: 0.0053 - accuracy: 0.9984WARNING:tensorflow:Can save best model only with val_acc available, skipping.\n"
     ]
    },
    {
     "name": "stderr",
     "output_type": "stream",
     "text": [
      "WARNING:tensorflow:Can save best model only with val_acc available, skipping.\n"
     ]
    },
    {
     "name": "stdout",
     "output_type": "stream",
     "text": [
      "870/870 [==============================] - 49s 56ms/step - loss: 0.0053 - accuracy: 0.9984 - val_loss: 9.3825e-06 - val_accuracy: 1.0000\n",
      "Epoch 20/50\n",
      "870/870 [==============================] - ETA: 0s - loss: 0.0065 - accuracy: 0.9979WARNING:tensorflow:Can save best model only with val_acc available, skipping.\n"
     ]
    },
    {
     "name": "stderr",
     "output_type": "stream",
     "text": [
      "WARNING:tensorflow:Can save best model only with val_acc available, skipping.\n"
     ]
    },
    {
     "name": "stdout",
     "output_type": "stream",
     "text": [
      "870/870 [==============================] - 49s 56ms/step - loss: 0.0065 - accuracy: 0.9979 - val_loss: 1.5880e-06 - val_accuracy: 1.0000\n",
      "Epoch 21/50\n",
      "870/870 [==============================] - ETA: 0s - loss: 0.0065 - accuracy: 0.9979WARNING:tensorflow:Can save best model only with val_acc available, skipping.\n"
     ]
    },
    {
     "name": "stderr",
     "output_type": "stream",
     "text": [
      "WARNING:tensorflow:Can save best model only with val_acc available, skipping.\n"
     ]
    },
    {
     "name": "stdout",
     "output_type": "stream",
     "text": [
      "870/870 [==============================] - 48s 55ms/step - loss: 0.0065 - accuracy: 0.9979 - val_loss: 2.6030e-05 - val_accuracy: 1.0000\n",
      "Epoch 22/50\n",
      "870/870 [==============================] - ETA: 0s - loss: 0.0060 - accuracy: 0.9981WARNING:tensorflow:Can save best model only with val_acc available, skipping.\n"
     ]
    },
    {
     "name": "stderr",
     "output_type": "stream",
     "text": [
      "WARNING:tensorflow:Can save best model only with val_acc available, skipping.\n"
     ]
    },
    {
     "name": "stdout",
     "output_type": "stream",
     "text": [
      "870/870 [==============================] - 48s 55ms/step - loss: 0.0060 - accuracy: 0.9981 - val_loss: 1.3465e-05 - val_accuracy: 1.0000\n",
      "Epoch 23/50\n",
      "870/870 [==============================] - ETA: 0s - loss: 0.0056 - accuracy: 0.9983WARNING:tensorflow:Can save best model only with val_acc available, skipping.\n"
     ]
    },
    {
     "name": "stderr",
     "output_type": "stream",
     "text": [
      "WARNING:tensorflow:Can save best model only with val_acc available, skipping.\n"
     ]
    },
    {
     "name": "stdout",
     "output_type": "stream",
     "text": [
      "870/870 [==============================] - 48s 55ms/step - loss: 0.0056 - accuracy: 0.9983 - val_loss: 2.9060e-04 - val_accuracy: 1.0000\n",
      "Epoch 24/50\n",
      "870/870 [==============================] - ETA: 0s - loss: 0.0058 - accuracy: 0.9982WARNING:tensorflow:Can save best model only with val_acc available, skipping.\n"
     ]
    },
    {
     "name": "stderr",
     "output_type": "stream",
     "text": [
      "WARNING:tensorflow:Can save best model only with val_acc available, skipping.\n"
     ]
    },
    {
     "name": "stdout",
     "output_type": "stream",
     "text": [
      "870/870 [==============================] - 48s 55ms/step - loss: 0.0058 - accuracy: 0.9982 - val_loss: 1.7711e-06 - val_accuracy: 1.0000\n",
      "Epoch 25/50\n",
      "870/870 [==============================] - ETA: 0s - loss: 0.0045 - accuracy: 0.9987WARNING:tensorflow:Can save best model only with val_acc available, skipping.\n"
     ]
    },
    {
     "name": "stderr",
     "output_type": "stream",
     "text": [
      "WARNING:tensorflow:Can save best model only with val_acc available, skipping.\n"
     ]
    },
    {
     "name": "stdout",
     "output_type": "stream",
     "text": [
      "870/870 [==============================] - 48s 55ms/step - loss: 0.0045 - accuracy: 0.9987 - val_loss: 5.9179e-07 - val_accuracy: 1.0000\n",
      "Epoch 26/50\n",
      "870/870 [==============================] - ETA: 0s - loss: 0.0041 - accuracy: 0.9987WARNING:tensorflow:Can save best model only with val_acc available, skipping.\n"
     ]
    },
    {
     "name": "stderr",
     "output_type": "stream",
     "text": [
      "WARNING:tensorflow:Can save best model only with val_acc available, skipping.\n"
     ]
    },
    {
     "name": "stdout",
     "output_type": "stream",
     "text": [
      "870/870 [==============================] - 47s 54ms/step - loss: 0.0041 - accuracy: 0.9987 - val_loss: 8.9832e-07 - val_accuracy: 1.0000\n",
      "Epoch 27/50\n",
      "870/870 [==============================] - ETA: 0s - loss: 0.0049 - accuracy: 0.9983WARNING:tensorflow:Can save best model only with val_acc available, skipping.\n"
     ]
    },
    {
     "name": "stderr",
     "output_type": "stream",
     "text": [
      "WARNING:tensorflow:Can save best model only with val_acc available, skipping.\n"
     ]
    },
    {
     "name": "stdout",
     "output_type": "stream",
     "text": [
      "870/870 [==============================] - 49s 57ms/step - loss: 0.0049 - accuracy: 0.9983 - val_loss: 3.1505e-07 - val_accuracy: 1.0000\n",
      "Epoch 28/50\n",
      "870/870 [==============================] - ETA: 0s - loss: 0.0046 - accuracy: 0.9986WARNING:tensorflow:Can save best model only with val_acc available, skipping.\n"
     ]
    },
    {
     "name": "stderr",
     "output_type": "stream",
     "text": [
      "WARNING:tensorflow:Can save best model only with val_acc available, skipping.\n"
     ]
    },
    {
     "name": "stdout",
     "output_type": "stream",
     "text": [
      "870/870 [==============================] - 50s 57ms/step - loss: 0.0046 - accuracy: 0.9986 - val_loss: 4.8535e-07 - val_accuracy: 1.0000\n",
      "Epoch 29/50\n",
      "870/870 [==============================] - ETA: 0s - loss: 0.0041 - accuracy: 0.9988WARNING:tensorflow:Can save best model only with val_acc available, skipping.\n"
     ]
    },
    {
     "name": "stderr",
     "output_type": "stream",
     "text": [
      "WARNING:tensorflow:Can save best model only with val_acc available, skipping.\n"
     ]
    },
    {
     "name": "stdout",
     "output_type": "stream",
     "text": [
      "870/870 [==============================] - 50s 57ms/step - loss: 0.0041 - accuracy: 0.9988 - val_loss: 1.2304e-06 - val_accuracy: 1.0000\n",
      "Epoch 30/50\n",
      "870/870 [==============================] - ETA: 0s - loss: 0.0043 - accuracy: 0.9986WARNING:tensorflow:Can save best model only with val_acc available, skipping.\n"
     ]
    },
    {
     "name": "stderr",
     "output_type": "stream",
     "text": [
      "WARNING:tensorflow:Can save best model only with val_acc available, skipping.\n"
     ]
    },
    {
     "name": "stdout",
     "output_type": "stream",
     "text": [
      "870/870 [==============================] - 48s 55ms/step - loss: 0.0043 - accuracy: 0.9986 - val_loss: 1.8307e-07 - val_accuracy: 1.0000\n",
      "Epoch 31/50\n",
      "870/870 [==============================] - ETA: 0s - loss: 0.0049 - accuracy: 0.9985WARNING:tensorflow:Can save best model only with val_acc available, skipping.\n"
     ]
    },
    {
     "name": "stderr",
     "output_type": "stream",
     "text": [
      "WARNING:tensorflow:Can save best model only with val_acc available, skipping.\n"
     ]
    },
    {
     "name": "stdout",
     "output_type": "stream",
     "text": [
      "870/870 [==============================] - 48s 55ms/step - loss: 0.0049 - accuracy: 0.9985 - val_loss: 1.0048e-06 - val_accuracy: 1.0000\n",
      "Epoch 32/50\n",
      "870/870 [==============================] - ETA: 0s - loss: 0.0042 - accuracy: 0.9987WARNING:tensorflow:Can save best model only with val_acc available, skipping.\n"
     ]
    },
    {
     "name": "stderr",
     "output_type": "stream",
     "text": [
      "WARNING:tensorflow:Can save best model only with val_acc available, skipping.\n"
     ]
    },
    {
     "name": "stdout",
     "output_type": "stream",
     "text": [
      "870/870 [==============================] - 49s 56ms/step - loss: 0.0042 - accuracy: 0.9987 - val_loss: 6.0030e-07 - val_accuracy: 1.0000\n",
      "Epoch 33/50\n",
      "870/870 [==============================] - ETA: 0s - loss: 0.0040 - accuracy: 0.9988WARNING:tensorflow:Can save best model only with val_acc available, skipping.\n"
     ]
    },
    {
     "name": "stderr",
     "output_type": "stream",
     "text": [
      "WARNING:tensorflow:Can save best model only with val_acc available, skipping.\n"
     ]
    },
    {
     "name": "stdout",
     "output_type": "stream",
     "text": [
      "870/870 [==============================] - 46s 53ms/step - loss: 0.0040 - accuracy: 0.9988 - val_loss: 6.7305e-06 - val_accuracy: 1.0000\n",
      "Epoch 34/50\n",
      "870/870 [==============================] - ETA: 0s - loss: 0.0039 - accuracy: 0.9988WARNING:tensorflow:Can save best model only with val_acc available, skipping.\n"
     ]
    },
    {
     "name": "stderr",
     "output_type": "stream",
     "text": [
      "WARNING:tensorflow:Can save best model only with val_acc available, skipping.\n"
     ]
    },
    {
     "name": "stdout",
     "output_type": "stream",
     "text": [
      "870/870 [==============================] - 48s 55ms/step - loss: 0.0039 - accuracy: 0.9988 - val_loss: 3.2441e-06 - val_accuracy: 1.0000\n",
      "Epoch 35/50\n",
      "870/870 [==============================] - ETA: 0s - loss: 0.0040 - accuracy: 0.9988WARNING:tensorflow:Can save best model only with val_acc available, skipping.\n"
     ]
    },
    {
     "name": "stderr",
     "output_type": "stream",
     "text": [
      "WARNING:tensorflow:Can save best model only with val_acc available, skipping.\n"
     ]
    },
    {
     "name": "stdout",
     "output_type": "stream",
     "text": [
      "870/870 [==============================] - 47s 54ms/step - loss: 0.0040 - accuracy: 0.9988 - val_loss: 1.1580e-06 - val_accuracy: 1.0000\n",
      "Epoch 36/50\n",
      "869/870 [============================>.] - ETA: 0s - loss: 0.0034 - accuracy: 0.9988WARNING:tensorflow:Can save best model only with val_acc available, skipping.\n"
     ]
    },
    {
     "name": "stderr",
     "output_type": "stream",
     "text": [
      "WARNING:tensorflow:Can save best model only with val_acc available, skipping.\n"
     ]
    },
    {
     "name": "stdout",
     "output_type": "stream",
     "text": [
      "870/870 [==============================] - 48s 56ms/step - loss: 0.0034 - accuracy: 0.9988 - val_loss: 1.0601e-06 - val_accuracy: 1.0000\n",
      "Epoch 37/50\n",
      "870/870 [==============================] - ETA: 0s - loss: 0.0032 - accuracy: 0.9990WARNING:tensorflow:Can save best model only with val_acc available, skipping.\n"
     ]
    },
    {
     "name": "stderr",
     "output_type": "stream",
     "text": [
      "WARNING:tensorflow:Can save best model only with val_acc available, skipping.\n"
     ]
    },
    {
     "name": "stdout",
     "output_type": "stream",
     "text": [
      "870/870 [==============================] - 50s 57ms/step - loss: 0.0032 - accuracy: 0.9990 - val_loss: 6.7694e-07 - val_accuracy: 1.0000\n",
      "Epoch 38/50\n",
      "870/870 [==============================] - ETA: 0s - loss: 0.0040 - accuracy: 0.9988WARNING:tensorflow:Can save best model only with val_acc available, skipping.\n"
     ]
    },
    {
     "name": "stderr",
     "output_type": "stream",
     "text": [
      "WARNING:tensorflow:Can save best model only with val_acc available, skipping.\n"
     ]
    },
    {
     "name": "stdout",
     "output_type": "stream",
     "text": [
      "870/870 [==============================] - 49s 56ms/step - loss: 0.0040 - accuracy: 0.9988 - val_loss: 1.6178e-07 - val_accuracy: 1.0000\n",
      "Epoch 39/50\n",
      "870/870 [==============================] - ETA: 0s - loss: 0.0027 - accuracy: 0.9992WARNING:tensorflow:Can save best model only with val_acc available, skipping.\n"
     ]
    },
    {
     "name": "stderr",
     "output_type": "stream",
     "text": [
      "WARNING:tensorflow:Can save best model only with val_acc available, skipping.\n"
     ]
    },
    {
     "name": "stdout",
     "output_type": "stream",
     "text": [
      "870/870 [==============================] - 48s 55ms/step - loss: 0.0027 - accuracy: 0.9992 - val_loss: 2.9377e-07 - val_accuracy: 1.0000\n",
      "Epoch 40/50\n",
      "870/870 [==============================] - ETA: 0s - loss: 0.0033 - accuracy: 0.9990WARNING:tensorflow:Can save best model only with val_acc available, skipping.\n"
     ]
    },
    {
     "name": "stderr",
     "output_type": "stream",
     "text": [
      "WARNING:tensorflow:Can save best model only with val_acc available, skipping.\n"
     ]
    },
    {
     "name": "stdout",
     "output_type": "stream",
     "text": [
      "870/870 [==============================] - 49s 56ms/step - loss: 0.0033 - accuracy: 0.9990 - val_loss: 2.2990e-07 - val_accuracy: 1.0000\n",
      "Epoch 41/50\n",
      "870/870 [==============================] - ETA: 0s - loss: 0.0032 - accuracy: 0.9989WARNING:tensorflow:Can save best model only with val_acc available, skipping.\n"
     ]
    },
    {
     "name": "stderr",
     "output_type": "stream",
     "text": [
      "WARNING:tensorflow:Can save best model only with val_acc available, skipping.\n"
     ]
    },
    {
     "name": "stdout",
     "output_type": "stream",
     "text": [
      "870/870 [==============================] - 46s 53ms/step - loss: 0.0032 - accuracy: 0.9989 - val_loss: 7.1525e-07 - val_accuracy: 1.0000\n",
      "Epoch 42/50\n",
      "870/870 [==============================] - ETA: 0s - loss: 0.0034 - accuracy: 0.9989WARNING:tensorflow:Can save best model only with val_acc available, skipping.\n"
     ]
    },
    {
     "name": "stderr",
     "output_type": "stream",
     "text": [
      "WARNING:tensorflow:Can save best model only with val_acc available, skipping.\n"
     ]
    },
    {
     "name": "stdout",
     "output_type": "stream",
     "text": [
      "870/870 [==============================] - 49s 56ms/step - loss: 0.0034 - accuracy: 0.9989 - val_loss: 1.0388e-06 - val_accuracy: 1.0000\n",
      "Epoch 43/50\n",
      "870/870 [==============================] - ETA: 0s - loss: 0.0026 - accuracy: 0.9993WARNING:tensorflow:Can save best model only with val_acc available, skipping.\n"
     ]
    },
    {
     "name": "stderr",
     "output_type": "stream",
     "text": [
      "WARNING:tensorflow:Can save best model only with val_acc available, skipping.\n"
     ]
    },
    {
     "name": "stdout",
     "output_type": "stream",
     "text": [
      "870/870 [==============================] - 49s 57ms/step - loss: 0.0026 - accuracy: 0.9993 - val_loss: 3.3634e-07 - val_accuracy: 1.0000\n",
      "Epoch 44/50\n",
      "870/870 [==============================] - ETA: 0s - loss: 0.0033 - accuracy: 0.9990WARNING:tensorflow:Can save best model only with val_acc available, skipping.\n"
     ]
    },
    {
     "name": "stderr",
     "output_type": "stream",
     "text": [
      "WARNING:tensorflow:Can save best model only with val_acc available, skipping.\n"
     ]
    },
    {
     "name": "stdout",
     "output_type": "stream",
     "text": [
      "870/870 [==============================] - 50s 58ms/step - loss: 0.0033 - accuracy: 0.9990 - val_loss: 3.0228e-07 - val_accuracy: 1.0000\n",
      "Epoch 45/50\n",
      "870/870 [==============================] - ETA: 0s - loss: 0.0032 - accuracy: 0.9990WARNING:tensorflow:Can save best model only with val_acc available, skipping.\n"
     ]
    },
    {
     "name": "stderr",
     "output_type": "stream",
     "text": [
      "WARNING:tensorflow:Can save best model only with val_acc available, skipping.\n"
     ]
    },
    {
     "name": "stdout",
     "output_type": "stream",
     "text": [
      "870/870 [==============================] - 49s 56ms/step - loss: 0.0032 - accuracy: 0.9990 - val_loss: 3.7891e-07 - val_accuracy: 1.0000\n",
      "Epoch 46/50\n",
      "870/870 [==============================] - ETA: 0s - loss: 0.0032 - accuracy: 0.9990WARNING:tensorflow:Can save best model only with val_acc available, skipping.\n"
     ]
    },
    {
     "name": "stderr",
     "output_type": "stream",
     "text": [
      "WARNING:tensorflow:Can save best model only with val_acc available, skipping.\n"
     ]
    },
    {
     "name": "stdout",
     "output_type": "stream",
     "text": [
      "870/870 [==============================] - 50s 58ms/step - loss: 0.0032 - accuracy: 0.9990 - val_loss: 1.3887e-04 - val_accuracy: 1.0000\n",
      "Epoch 47/50\n",
      "774/870 [=========================>....] - ETA: 5s - loss: 0.0023 - accuracy: 0.9993"
     ]
    }
   ],
   "source": [
    "#start training\n",
    "\n",
    "epochs = 50\n",
    "\n",
    "from keras.callbacks import ModelCheckpoint\n",
    "\n",
    "checkpoint = ModelCheckpoint(\"model_weights.h5\", monitor='val_acc', verbose=1, save_best_only=True, mode='max')\n",
    "callbacks_list = [checkpoint]\n",
    "\n",
    "history = model.fit(train_generator,\n",
    "    steps_per_epoch=train_generator.n//train_generator.batch_size,\n",
    "    epochs=epochs,\n",
    "    validation_data = validation_generator,\n",
    "    validation_steps = validation_generator.n//validation_generator.batch_size,\n",
    "    callbacks=callbacks_list\n",
    "    )"
   ]
  },
  {
   "cell_type": "code",
   "execution_count": 25,
   "metadata": {
    "colab": {},
    "colab_type": "code",
    "id": "gIk0MTfik4Zr"
   },
   "outputs": [
    {
     "name": "stderr",
     "output_type": "stream",
     "text": [
      "2023-07-12 09:51:27.012027: I tensorflow/core/common_runtime/executor.cc:1197] [/device:CPU:0] (DEBUG INFO) Executor start aborting (this does not indicate an error and you can ignore this message): INVALID_ARGUMENT: You must feed a value for placeholder tensor 'inputs' with dtype float and shape [?,24,24,64]\n",
      "\t [[{{node inputs}}]]\n",
      "2023-07-12 09:51:27.029870: I tensorflow/core/common_runtime/executor.cc:1197] [/device:CPU:0] (DEBUG INFO) Executor start aborting (this does not indicate an error and you can ignore this message): INVALID_ARGUMENT: You must feed a value for placeholder tensor 'inputs' with dtype float and shape [?,12,12,128]\n",
      "\t [[{{node inputs}}]]\n",
      "2023-07-12 09:51:27.047419: I tensorflow/core/common_runtime/executor.cc:1197] [/device:CPU:0] (DEBUG INFO) Executor start aborting (this does not indicate an error and you can ignore this message): INVALID_ARGUMENT: You must feed a value for placeholder tensor 'inputs' with dtype float and shape [?,6,6,512]\n",
      "\t [[{{node inputs}}]]\n",
      "2023-07-12 09:51:27.066352: I tensorflow/core/common_runtime/executor.cc:1197] [/device:CPU:0] (DEBUG INFO) Executor start aborting (this does not indicate an error and you can ignore this message): INVALID_ARGUMENT: You must feed a value for placeholder tensor 'inputs' with dtype float and shape [?,3,3,512]\n",
      "\t [[{{node inputs}}]]\n",
      "2023-07-12 09:51:27.086648: I tensorflow/core/common_runtime/executor.cc:1197] [/device:CPU:0] (DEBUG INFO) Executor start aborting (this does not indicate an error and you can ignore this message): INVALID_ARGUMENT: You must feed a value for placeholder tensor 'inputs' with dtype float and shape [?,256]\n",
      "\t [[{{node inputs}}]]\n",
      "2023-07-12 09:51:27.103555: I tensorflow/core/common_runtime/executor.cc:1197] [/device:CPU:0] (DEBUG INFO) Executor start aborting (this does not indicate an error and you can ignore this message): INVALID_ARGUMENT: You must feed a value for placeholder tensor 'inputs' with dtype float and shape [?,512]\n",
      "\t [[{{node inputs}}]]\n",
      "2023-07-12 09:51:27.582680: I tensorflow/core/common_runtime/executor.cc:1197] [/device:CPU:0] (DEBUG INFO) Executor start aborting (this does not indicate an error and you can ignore this message): INVALID_ARGUMENT: You must feed a value for placeholder tensor 'inputs' with dtype float and shape [?,24,24,64]\n",
      "\t [[{{node inputs}}]]\n",
      "2023-07-12 09:51:27.656573: I tensorflow/core/common_runtime/executor.cc:1197] [/device:CPU:0] (DEBUG INFO) Executor start aborting (this does not indicate an error and you can ignore this message): INVALID_ARGUMENT: You must feed a value for placeholder tensor 'inputs' with dtype float and shape [?,12,12,128]\n",
      "\t [[{{node inputs}}]]\n",
      "2023-07-12 09:51:27.727147: I tensorflow/core/common_runtime/executor.cc:1197] [/device:CPU:0] (DEBUG INFO) Executor start aborting (this does not indicate an error and you can ignore this message): INVALID_ARGUMENT: You must feed a value for placeholder tensor 'inputs' with dtype float and shape [?,6,6,512]\n",
      "\t [[{{node inputs}}]]\n",
      "2023-07-12 09:51:27.798027: I tensorflow/core/common_runtime/executor.cc:1197] [/device:CPU:0] (DEBUG INFO) Executor start aborting (this does not indicate an error and you can ignore this message): INVALID_ARGUMENT: You must feed a value for placeholder tensor 'inputs' with dtype float and shape [?,3,3,512]\n",
      "\t [[{{node inputs}}]]\n",
      "2023-07-12 09:51:27.882053: I tensorflow/core/common_runtime/executor.cc:1197] [/device:CPU:0] (DEBUG INFO) Executor start aborting (this does not indicate an error and you can ignore this message): INVALID_ARGUMENT: You must feed a value for placeholder tensor 'inputs' with dtype float and shape [?,256]\n",
      "\t [[{{node inputs}}]]\n",
      "2023-07-12 09:51:27.957308: I tensorflow/core/common_runtime/executor.cc:1197] [/device:CPU:0] (DEBUG INFO) Executor start aborting (this does not indicate an error and you can ignore this message): INVALID_ARGUMENT: You must feed a value for placeholder tensor 'inputs' with dtype float and shape [?,512]\n",
      "\t [[{{node inputs}}]]\n",
      "WARNING:absl:Found untraced functions such as _jit_compiled_convolution_op, _jit_compiled_convolution_op, _jit_compiled_convolution_op, _jit_compiled_convolution_op while saving (showing 4 of 4). These functions will not be directly callable after loading.\n"
     ]
    },
    {
     "name": "stdout",
     "output_type": "stream",
     "text": [
      "INFO:tensorflow:Assets written to: full.model/assets\n"
     ]
    },
    {
     "name": "stderr",
     "output_type": "stream",
     "text": [
      "INFO:tensorflow:Assets written to: full.model/assets\n"
     ]
    }
   ],
   "source": [
    "#save the model for predictions\n",
    "\n",
    "model.save('data/checkpoint/full.model')"
   ]
  },
  {
   "cell_type": "code",
   "execution_count": 28,
   "metadata": {
    "colab": {
     "base_uri": "https://localhost:8080/",
     "height": 630
    },
    "colab_type": "code",
    "id": "8XpdTgj8wHgS",
    "outputId": "8655d4ea-214f-4415-9944-73cbdfbca60a"
   },
   "outputs": [
    {
     "data": {
      "image/png": "[encoded data removed]",
      "text/plain": [
       "<Figure size 2000x1000 with 2 Axes>"
      ]
     },
     "metadata": {},
     "output_type": "display_data"
    }
   ],
   "source": [
    "# plot change in loss and accuracy\n",
    "\n",
    "import matplotlib.pyplot as plt\n",
    "\n",
    "plt.figure(figsize=(20,10))\n",
    "plt.subplot(1, 2, 1)\n",
    "plt.suptitle('Optimizer : Adam', fontsize=10)\n",
    "plt.ylabel('Loss', fontsize=16)\n",
    "plt.plot(history.history['loss'], label='Training Loss')\n",
    "plt.plot(history.history['val_loss'], label='Validation Loss')\n",
    "plt.legend(loc='upper right')\n",
    "\n",
    "plt.subplot(1, 2, 2)\n",
    "plt.ylabel('Accuracy', fontsize=16)\n",
    "plt.plot(history.history['accuracy'], label='Training Accuracy')\n",
    "plt.plot(history.history['val_accuracy'], label='Validation Accuracy')\n",
    "plt.legend(loc='lower right')\n",
    "plt.show()"
   ]
  },
  {
   "cell_type": "code",
   "execution_count": null,
   "metadata": {
    "colab": {},
    "colab_type": "code",
    "id": "HNNtwLBRlFrd"
   },
   "outputs": [],
   "source": [
    "#Show predicition for one image\n",
    "\n",
    "import tensorflow as tf\n",
    "import cv2\n",
    "import numpy as np\n",
    "\n",
    "\n",
    "CATEGORIES = [\"A\", \"B\", \"C\", \"D\", \"E\", \"F\", \"G\", \"H\", \"I\", \"J\", \"K\", \"L\", \"M\", \"N\", \"O\", \"P\", \"Q\", \"R\", \"S\", \"T\", \"U\", \"V\", \"W\", \"X\", \"Y\", \"Z\", \"del\", \"nothing\", \"space\"]\n",
    "\n",
    "\n",
    "def prepare(filepath):\n",
    "    IMG_SIZE = 48\n",
    "    img_array = cv2.imread(filepath, cv2. IMREAD_GRAYSCALE)\n",
    "    new_array = cv2.resize(img_array, (IMG_SIZE, IMG_SIZE))\n",
    "    return new_array.reshape(-1, IMG_SIZE, IMG_SIZE, 1) \n",
    "\n",
    "\n",
    "\n",
    "model = tf.keras.models.load_model(\"data/checkpoints/full.model\")"
   ]
  },
  {
   "cell_type": "code",
   "execution_count": null,
   "metadata": {
    "colab": {},
    "colab_type": "code",
    "id": "HxTr6Bh2Lte6"
   },
   "outputs": [],
   "source": [
    "prediction = model.predict([prepare(\"img\")])\n",
    "\n",
    "print(prediction)\n",
    "print(CATEGORIES[int(np.argmax(prediction[0]))])"
   ]
  }
 ],
 "metadata": {
  "accelerator": "GPU",
  "colab": {
   "authorship_tag": "ABX9TyMmj7UEZlP8yKs1x8L7fz1o",
   "include_colab_link": true,
   "mount_file_id": "1vxHos6CNk7nmBSo9_wgD9ET8dfivtXhs",
   "name": "ASL-Translation.ipynb",
   "provenance": [],
   "toc_visible": true
  },
  "kernelspec": {
   "display_name": "Python 3 (ipykernel)",
   "language": "python",
   "name": "python3"
  },
  "language_info": {
   "codemirror_mode": {
    "name": "ipython",
    "version": 3
   },
   "file_extension": ".py",
   "mimetype": "text/x-python",
   "name": "python",
   "nbconvert_exporter": "python",
   "pygments_lexer": "ipython3",
   "version": "3.9.17"
  }
 },
 "nbformat": 4,
 "nbformat_minor": 4
}
